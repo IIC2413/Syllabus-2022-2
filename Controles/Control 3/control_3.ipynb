{
  "nbformat": 4,
  "nbformat_minor": 0,
  "metadata": {
    "colab": {
      "provenance": [],
      "collapsed_sections": []
    },
    "kernelspec": {
      "name": "python3",
      "display_name": "Python 3"
    }
  },
  "cells": [
    {
      "cell_type": "markdown",
      "source": [
        "# Control 3\n",
        "\n",
        "Para este control trabajaremos sobre un dataset de best sellers del New York Times, que tiene información sobre libros que han estado en la lista.\n",
        "\n",
        "Pon tu nombre acá: ________"
      ],
      "metadata": {
        "id": "eMxpvlD_Fxl_"
      }
    },
    {
      "cell_type": "code",
      "source": [
        "!wget https://github.com/IIC2413/Syllabus-2022-2/raw/main/Controles/Control%203/nyt2.json\n",
        "\n",
        "!apt install mongodb\n",
        "!service mongodb start\n",
        "!mongoimport --db local --collection nyt --jsonArray < nyt2.json"
      ],
      "metadata": {
        "colab": {
          "base_uri": "https://localhost:8080/"
        },
        "id": "sBDirdKpAexk",
        "outputId": "7ffc2900-7511-4c36-dfa6-66fb638823f2"
      },
      "execution_count": null,
      "outputs": [
        {
          "output_type": "stream",
          "name": "stdout",
          "text": [
            "2022-11-09T15:45:42.754+0000\tconnected to: localhost\n",
            "2022-11-09T15:45:43.214+0000\timported 10195 documents\n"
          ]
        }
      ]
    },
    {
      "cell_type": "code",
      "source": [
        "from pymongo import MongoClient\n",
        "client = MongoClient()\n",
        "client.list_database_names()\n",
        "db = client['local']\n",
        "collection = db['nyt']"
      ],
      "metadata": {
        "id": "7kQZDmJmAkyc"
      },
      "execution_count": null,
      "outputs": []
    },
    {
      "cell_type": "code",
      "source": [
        "import pprint\n",
        "for book in collection.find({}).limit(1):\n",
        "    pprint.pprint(book)"
      ],
      "metadata": {
        "colab": {
          "base_uri": "https://localhost:8080/"
        },
        "id": "UjNQszU6EfbA",
        "outputId": "5d74c6c6-2663-4244-b00a-0117058c7119"
      },
      "execution_count": null,
      "outputs": [
        {
          "output_type": "stream",
          "name": "stdout",
          "text": [
            "{'_id': ObjectId('5b4aa4ead3089013507db18b'),\n",
            " 'amazon_product_url': 'http://www.amazon.com/Odd-Hours-Dean-Koontz/dp/0553807056?tag=NYTBS-20',\n",
            " 'author': 'Dean R Koontz',\n",
            " 'bestsellers_date': datetime.datetime(2008, 5, 24, 0, 0),\n",
            " 'description': 'Odd Thomas, who can communicate with the dead, confronts evil '\n",
            "                'forces in a California coastal town.',\n",
            " 'price': 27,\n",
            " 'published_date': datetime.datetime(2008, 6, 8, 0, 0),\n",
            " 'publisher': 'Bantam',\n",
            " 'rank': 1,\n",
            " 'rank_last_week': 0,\n",
            " 'title': 'ODD HOURS',\n",
            " 'weeks_on_list': 1}\n"
          ]
        }
      ]
    },
    {
      "cell_type": "markdown",
      "source": [
        "# NoSQL"
      ],
      "metadata": {
        "id": "bR8Nx7fsJGvd"
      }
    },
    {
      "cell_type": "markdown",
      "source": [
        "## Pregunta 1\n",
        "\n",
        "Encuentre los libros que han estado más de 10 semanas en la lista."
      ],
      "metadata": {
        "id": "jDQSGf6eNC8L"
      }
    },
    {
      "cell_type": "code",
      "source": [],
      "metadata": {
        "id": "4a-bsuqRcTaN"
      },
      "execution_count": null,
      "outputs": []
    },
    {
      "cell_type": "markdown",
      "source": [
        "## Pregunta 2\n",
        "\n",
        "Encuentre los libros anteriores al 2015 que estuvieron más de 5 semanas en la lista de best sellers, indique cuantas semanas estuvo cada libro en la lista."
      ],
      "metadata": {
        "id": "acFzjOCIBzsa"
      }
    },
    {
      "cell_type": "code",
      "source": [],
      "metadata": {
        "id": "4JEIZZUgcTvT"
      },
      "execution_count": null,
      "outputs": []
    },
    {
      "cell_type": "markdown",
      "source": [
        "## Pregunta 3\n",
        "\n",
        "Muestre el raking de los editores (publishers) que más semanas han estado en la lista de los best sellers."
      ],
      "metadata": {
        "id": "_Fl7cmNEBBug"
      }
    },
    {
      "cell_type": "code",
      "source": [],
      "metadata": {
        "id": "B4djTkrwcVJh"
      },
      "execution_count": null,
      "outputs": []
    },
    {
      "cell_type": "markdown",
      "source": [
        "# Pandas\n",
        "\n",
        "Resuelva las preguntas anteriores usando Pandas, en vez de consultar directamente en MongoDb"
      ],
      "metadata": {
        "id": "YYKjKN5sJJy9"
      }
    },
    {
      "cell_type": "code",
      "source": [
        "import pandas as pd\n",
        "df = pd.read_json('nyt2.json')\n",
        "df.head()"
      ],
      "metadata": {
        "id": "aoNEJ0DJAnWw"
      },
      "execution_count": null,
      "outputs": []
    },
    {
      "cell_type": "markdown",
      "source": [
        "## Pregunta 4\n",
        "\n",
        "Encuentre los libros que han estado más de 10 semanas en la lista."
      ],
      "metadata": {
        "id": "-GYRxO34EYRa"
      }
    },
    {
      "cell_type": "code",
      "source": [],
      "metadata": {
        "id": "bBNBm1RuJxos"
      },
      "execution_count": null,
      "outputs": []
    },
    {
      "cell_type": "markdown",
      "source": [
        "## Pregunta 5\n",
        "\n",
        "Encuentre los libros anteriores al 2015 que estuvieron más de 5 semanas en la lista de best sellers, indique cuantas semanas estuvo cada libro en la lista. (Los campos de fechas vienen como timestamps de UNIX)"
      ],
      "metadata": {
        "id": "s6meu0wfHgwD"
      }
    },
    {
      "cell_type": "code",
      "source": [],
      "metadata": {
        "id": "ZuBBJXWtcdYa"
      },
      "execution_count": null,
      "outputs": []
    },
    {
      "cell_type": "markdown",
      "source": [
        "# Pregunta 6\n",
        "\n",
        "Muestre el raking de los editores (publishers) que más semanas han estado en la lista de los best sellers."
      ],
      "metadata": {
        "id": "CVX7frMUJ4bS"
      }
    },
    {
      "cell_type": "code",
      "source": [],
      "metadata": {
        "id": "XmBJjZzAcgFP"
      },
      "execution_count": null,
      "outputs": []
    }
  ]
}
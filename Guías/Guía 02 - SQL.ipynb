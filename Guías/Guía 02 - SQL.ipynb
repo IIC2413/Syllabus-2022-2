{
 "cells": [
  {
   "cell_type": "markdown",
   "metadata": {
    "id": "vMe_cruNz0t3"
   },
   "source": [
    "# Guía 2: SQL\n",
    "\n",
    "En esta guía usted deberá realizar consultas SQL en un servidor virtual con PostgreSQL que contiene\n",
    "datos de películas extraídos de IMDb. El esquema de los datos es el siguiente:\n",
    "\n",
    "* $\\color{green}{\\textbf{pelicula}}(\\color{blue}{\\underline{\\text{nombre}}}, \\color{blue}{\\underline{\\text{anho}}}, \\color{blue}{\\text{calificacion}})$ \n",
    "* $\\color{green}{\\textbf{actor}}(\\color{blue}{\\underline{\\text{nombre}}}, \\color{blue}{\\text{genero}})$\n",
    "* $\\color{green}{\\textbf{personaje}}(\\color{blue}{\\underline{\\text{p_nombre}}}, \\color{blue}{\\underline{\\text{p_anho}}},  \\color{blue}{\\underline{\\text{a_nombre}}}, \\color{blue}{\\underline{\\text{personaje}}})$\n",
    "\n",
    "La tabla $\\color{green}{\\textbf{personaje}}$ usa llaves foráneas que hacen referencia a las tablas de $\\color{green}{\\textbf{actor}}(\\color{blue}{\\underline{\\text{a_nombre}}})$ y $\\color{green}{\\textbf{pelicula}}(\\color{blue}{\\underline{\\text{p_nombre}}}, \\color{blue}{\\underline{\\text{p_anho}}})$.\n",
    "\n",
    "Para iniciar el servidor virtual, instalar la base de datos postgres, y descargar los datos e importarlos, debe correr el siguiente bloque:\n",
    "\n"
   ]
  },
  {
   "cell_type": "code",
   "execution_count": null,
   "metadata": {
    "colab": {
     "base_uri": "https://localhost:8080/",
     "height": 486
    },
    "id": "xN9MrCqDyMym",
    "outputId": "84cf1126-cd19-46dc-a6f6-aadb51ac3e03"
   },
   "outputs": [],
   "source": [
    "# install\n",
    "!apt update\n",
    "!apt install postgresql postgresql-contrib &>log\n",
    "!service postgresql start\n",
    "!sudo -u postgres psql -c \"CREATE USER root WITH SUPERUSER\"\n",
    "# set connection\n",
    "%load_ext sql\n",
    "%config SqlMagic.feedback=False \n",
    "%config SqlMagic.autopandas=True\n",
    "%sql postgresql+psycopg2://@/postgres\n",
    "%sql create schema guia;\n",
    "!wget -cO - https://github.com/IIC2413/Syllabus-2022-2/raw/main/Gu%C3%ADas/extra/guia2.sql > /content/guia2.sql\n",
    "!psql postgres < /content/guia2.sql\n",
    "%sql set search_path to guia;\n",
    "\n",
    "from google.colab import output\n",
    "output.clear()"
   ]
  },
  {
   "cell_type": "markdown",
   "metadata": {
    "id": "ydn64zTV5o9m"
   },
   "source": [
    "Ejecute la siguiente consulta para probar que todo ande bien:"
   ]
  },
  {
   "cell_type": "code",
   "execution_count": null,
   "metadata": {
    "colab": {
     "base_uri": "https://localhost:8080/"
    },
    "id": "YswMeCEv2NKP",
    "outputId": "cfdf4b1b-8673-461d-f2de-d2e22d46d3ea"
   },
   "outputs": [],
   "source": [
    "%sql select * from pelicula;"
   ]
  },
  {
   "cell_type": "markdown",
   "metadata": {
    "id": "ETAuRqPi5vxa"
   },
   "source": [
    "Para ejecutar consultas multi-lineas use el tag %%sql:"
   ]
  },
  {
   "cell_type": "code",
   "execution_count": null,
   "metadata": {
    "colab": {
     "base_uri": "https://localhost:8080/",
     "height": 130
    },
    "id": "LvtXc3xx50Cc",
    "outputId": "11137c94-a136-48ea-83e5-6e5d94ffcf7f"
   },
   "outputs": [],
   "source": [
    "%%sql\n",
    "SELECT * FROM \n",
    "pelicula\n",
    "where nombre ilike '%terminator%';"
   ]
  },
  {
   "cell_type": "markdown",
   "metadata": {
    "id": "3jebBz5VWWPr"
   },
   "source": [
    "Ahora, debe diseñar las consultas que resuelvan las siguientes preguntas usando los operadores vistos en clases.\n",
    "\n",
    "# SQL\n",
    "## Pregunta 1\n",
    "Las películas de los 80s, ordenadas por calificación de mayor a menor."
   ]
  },
  {
   "cell_type": "code",
   "execution_count": null,
   "metadata": {
    "colab": {
     "base_uri": "https://localhost:8080/"
    },
    "id": "-dmw_2es6Lq-",
    "outputId": "d0a4e3e6-7ee0-4319-a272-21c8c4049bed"
   },
   "outputs": [],
   "source": []
  },
  {
   "cell_type": "markdown",
   "metadata": {
    "id": "bXx5ydBH6LDW"
   },
   "source": [
    "## Pregunta 2\n",
    "Los nombres de los personajes que ha interpretado su actriz/actor favorito en los datos, ordenados por año."
   ]
  },
  {
   "cell_type": "code",
   "execution_count": null,
   "metadata": {
    "id": "i7eXykyM6e7b"
   },
   "outputs": [],
   "source": []
  },
  {
   "cell_type": "markdown",
   "metadata": {
    "id": "VBzPnV1u7MKd"
   },
   "source": [
    "# Pregunta 3\n",
    "Las películas en las que participó su actriz/actor favorito en los datos, ordenadas por calificación de mayor a menor."
   ]
  },
  {
   "cell_type": "code",
   "execution_count": null,
   "metadata": {
    "id": "A_NE2bZC7Mcj"
   },
   "outputs": [],
   "source": []
  },
  {
   "cell_type": "markdown",
   "metadata": {
    "id": "AHqOm3zw6fR2"
   },
   "source": [
    "## Pregunta 4\n",
    "Los nombres de los personajes interpretados por mujeres, en películas de los 90s, con calificación mayor a 8,7."
   ]
  },
  {
   "cell_type": "code",
   "execution_count": null,
   "metadata": {
    "id": "VXaANhCX6foK"
   },
   "outputs": [],
   "source": []
  },
  {
   "cell_type": "markdown",
   "metadata": {
    "id": "tXZVP8PZ6gF4"
   },
   "source": [
    "## Pregunta 5\n",
    "Las películas de la saga \"The Lord of the Rings\" (usando el prefijo de su nombre) ordenadas por calificación y por año."
   ]
  },
  {
   "cell_type": "code",
   "execution_count": null,
   "metadata": {
    "id": "0OssDcFm6gYJ"
   },
   "outputs": [],
   "source": []
  },
  {
   "cell_type": "markdown",
   "metadata": {
    "id": "Nw-zj04q6glX"
   },
   "source": [
    "## Pregunta 6\n",
    "Los nombres de los actores que interpretan más de un personaje en la misma película."
   ]
  },
  {
   "cell_type": "code",
   "execution_count": null,
   "metadata": {
    "id": "WRWEHceB6g7h"
   },
   "outputs": [],
   "source": []
  },
  {
   "cell_type": "markdown",
   "metadata": {
    "id": "S_ENc-C36iNZ"
   },
   "source": [
    "## Pregunta 7\n",
    "Las películas en que actúan juntos Uma Thurman y Samuel L. Jackson."
   ]
  },
  {
   "cell_type": "code",
   "execution_count": null,
   "metadata": {
    "id": "myoT76rT6igC"
   },
   "outputs": [],
   "source": []
  },
  {
   "cell_type": "markdown",
   "metadata": {
    "id": "I1Y2G_UC6i69"
   },
   "source": [
    "## Pregunta 8\n",
    "Las películas en que actúa Uma Thurman y **no** Samuel L. Jackson."
   ]
  },
  {
   "cell_type": "code",
   "execution_count": null,
   "metadata": {
    "id": "Lmi0vKF-6jPr"
   },
   "outputs": [],
   "source": []
  },
  {
   "cell_type": "markdown",
   "metadata": {
    "id": "v1dev-7A6jpV"
   },
   "source": [
    "## Pregunta 9\n",
    "Los pares de actores que aparecen juntos en más de una película. Cada par debe aparecer una sola vez, es decir, si $(A,B)$ aparece, no debe aparecer $(B,A)$, pues es el mismo par. Tampoco se deben incluir pares de la forma $(A,A)$."
   ]
  },
  {
   "cell_type": "code",
   "execution_count": null,
   "metadata": {
    "id": "4qPtyZBU6j7z"
   },
   "outputs": [],
   "source": []
  },
  {
   "cell_type": "markdown",
   "metadata": {
    "id": "xPxloTWK6kOb"
   },
   "source": [
    "## Pregunta 10\n",
    "La película con calificación más alta."
   ]
  },
  {
   "cell_type": "code",
   "execution_count": null,
   "metadata": {
    "id": "Xuvi8hCO6kpU"
   },
   "outputs": [],
   "source": []
  }
 ],
 "metadata": {
  "colab": {
   "collapsed_sections": [],
   "name": "Guía 02 - SQL.ipynb",
   "provenance": []
  },
  "kernelspec": {
   "display_name": "Python 3 (ipykernel)",
   "language": "python",
   "name": "python3"
  },
  "language_info": {
   "codemirror_mode": {
    "name": "ipython",
    "version": 3
   },
   "file_extension": ".py",
   "mimetype": "text/x-python",
   "name": "python",
   "nbconvert_exporter": "python",
   "pygments_lexer": "ipython3",
   "version": "3.10.4"
  }
 },
 "nbformat": 4,
 "nbformat_minor": 1
}
